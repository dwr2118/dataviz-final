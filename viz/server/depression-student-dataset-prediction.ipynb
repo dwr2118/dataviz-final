{
 "cells": [
  {
   "cell_type": "code",
   "execution_count": 1,
   "id": "0201787c",
   "metadata": {
    "_cell_guid": "b1076dfc-b9ad-4769-8c92-a6c4dae69d19",
    "_uuid": "8f2839f25d086af736a60e9eeb907d3b93b6e0e5",
    "execution": {
     "iopub.execute_input": "2024-11-22T21:14:30.834462Z",
     "iopub.status.busy": "2024-11-22T21:14:30.834081Z",
     "iopub.status.idle": "2024-11-22T21:14:33.018174Z",
     "shell.execute_reply": "2024-11-22T21:14:33.017207Z"
    },
    "papermill": {
     "duration": 2.191471,
     "end_time": "2024-11-22T21:14:33.020712",
     "exception": false,
     "start_time": "2024-11-22T21:14:30.829241",
     "status": "completed"
    },
    "tags": []
   },
   "outputs": [],
   "source": [
    "import pandas as pd\n",
    "from sklearn.preprocessing import LabelEncoder"
   ]
  },
  {
   "cell_type": "code",
   "execution_count": 2,
   "id": "66b5a306",
   "metadata": {
    "execution": {
     "iopub.execute_input": "2024-11-22T21:14:33.028636Z",
     "iopub.status.busy": "2024-11-22T21:14:33.028128Z",
     "iopub.status.idle": "2024-11-22T21:14:33.058822Z",
     "shell.execute_reply": "2024-11-22T21:14:33.057685Z"
    },
    "papermill": {
     "duration": 0.037398,
     "end_time": "2024-11-22T21:14:33.061453",
     "exception": false,
     "start_time": "2024-11-22T21:14:33.024055",
     "status": "completed"
    },
    "tags": []
   },
   "outputs": [],
   "source": [
    "df = pd.read_csv(\"/kaggle/input/depression-student-dataset/Depression Student Dataset.csv\")\n",
    "encode = LabelEncoder()\n",
    "df_categorical =[]\n",
    "for column in df.columns:\n",
    "    if df[column].dtypes==\"object\":\n",
    "        df_categorical.append(column)\n",
    "for column in df_categorical: \n",
    "    df[column] = encode.fit_transform(df[column])"
   ]
  },
  {
   "cell_type": "code",
   "execution_count": 3,
   "id": "c72f3c13",
   "metadata": {
    "execution": {
     "iopub.execute_input": "2024-11-22T21:14:33.069147Z",
     "iopub.status.busy": "2024-11-22T21:14:33.068750Z",
     "iopub.status.idle": "2024-11-22T21:14:33.088825Z",
     "shell.execute_reply": "2024-11-22T21:14:33.087755Z"
    },
    "papermill": {
     "duration": 0.026588,
     "end_time": "2024-11-22T21:14:33.091168",
     "exception": false,
     "start_time": "2024-11-22T21:14:33.064580",
     "status": "completed"
    },
    "tags": []
   },
   "outputs": [
    {
     "data": {
      "text/html": [
       "<div>\n",
       "<style scoped>\n",
       "    .dataframe tbody tr th:only-of-type {\n",
       "        vertical-align: middle;\n",
       "    }\n",
       "\n",
       "    .dataframe tbody tr th {\n",
       "        vertical-align: top;\n",
       "    }\n",
       "\n",
       "    .dataframe thead th {\n",
       "        text-align: right;\n",
       "    }\n",
       "</style>\n",
       "<table border=\"1\" class=\"dataframe\">\n",
       "  <thead>\n",
       "    <tr style=\"text-align: right;\">\n",
       "      <th></th>\n",
       "      <th>Gender</th>\n",
       "      <th>Age</th>\n",
       "      <th>Academic Pressure</th>\n",
       "      <th>Study Satisfaction</th>\n",
       "      <th>Sleep Duration</th>\n",
       "      <th>Dietary Habits</th>\n",
       "      <th>Have you ever had suicidal thoughts ?</th>\n",
       "      <th>Study Hours</th>\n",
       "      <th>Financial Stress</th>\n",
       "      <th>Family History of Mental Illness</th>\n",
       "      <th>Depression</th>\n",
       "    </tr>\n",
       "  </thead>\n",
       "  <tbody>\n",
       "    <tr>\n",
       "      <th>0</th>\n",
       "      <td>1</td>\n",
       "      <td>28</td>\n",
       "      <td>2.0</td>\n",
       "      <td>4.0</td>\n",
       "      <td>1</td>\n",
       "      <td>1</td>\n",
       "      <td>1</td>\n",
       "      <td>9</td>\n",
       "      <td>2</td>\n",
       "      <td>1</td>\n",
       "      <td>0</td>\n",
       "    </tr>\n",
       "  </tbody>\n",
       "</table>\n",
       "</div>"
      ],
      "text/plain": [
       "   Gender  Age  Academic Pressure  Study Satisfaction  Sleep Duration  \\\n",
       "0       1   28                2.0                 4.0               1   \n",
       "\n",
       "   Dietary Habits  Have you ever had suicidal thoughts ?  Study Hours  \\\n",
       "0               1                                      1            9   \n",
       "\n",
       "   Financial Stress  Family History of Mental Illness  Depression  \n",
       "0                 2                                 1           0  "
      ]
     },
     "execution_count": 3,
     "metadata": {},
     "output_type": "execute_result"
    }
   ],
   "source": [
    "df.head(1)"
   ]
  },
  {
   "cell_type": "code",
   "execution_count": 4,
   "id": "e0896f4e",
   "metadata": {
    "execution": {
     "iopub.execute_input": "2024-11-22T21:14:33.099203Z",
     "iopub.status.busy": "2024-11-22T21:14:33.098814Z",
     "iopub.status.idle": "2024-11-22T21:14:33.219807Z",
     "shell.execute_reply": "2024-11-22T21:14:33.218924Z"
    },
    "papermill": {
     "duration": 0.12783,
     "end_time": "2024-11-22T21:14:33.222189",
     "exception": false,
     "start_time": "2024-11-22T21:14:33.094359",
     "status": "completed"
    },
    "tags": []
   },
   "outputs": [],
   "source": [
    "from sklearn.model_selection import train_test_split\n",
    "\n",
    "x = df.drop(columns=[\"Depression\"])\n",
    "y =df[\"Depression\"]\n",
    "\n",
    "x_train,x_test,y_train,y_test = train_test_split(x,y,test_size=0.3,random_state=42)"
   ]
  },
  {
   "cell_type": "code",
   "execution_count": 5,
   "id": "53779e5d",
   "metadata": {
    "execution": {
     "iopub.execute_input": "2024-11-22T21:14:33.231399Z",
     "iopub.status.busy": "2024-11-22T21:14:33.230153Z",
     "iopub.status.idle": "2024-11-22T21:14:34.595366Z",
     "shell.execute_reply": "2024-11-22T21:14:34.594175Z"
    },
    "papermill": {
     "duration": 1.372448,
     "end_time": "2024-11-22T21:14:34.598171",
     "exception": false,
     "start_time": "2024-11-22T21:14:33.225723",
     "status": "completed"
    },
    "tags": []
   },
   "outputs": [],
   "source": [
    "from sklearn.ensemble import VotingClassifier\n",
    "from sklearn.linear_model import LogisticRegression\n",
    "from sklearn.tree import DecisionTreeClassifier\n",
    "from sklearn.ensemble import RandomForestClassifier, GradientBoostingClassifier, AdaBoostClassifier\n",
    "from sklearn.svm import SVC\n",
    "from sklearn.naive_bayes import GaussianNB\n",
    "from sklearn.neighbors import KNeighborsClassifier\n",
    "from sklearn.discriminant_analysis import LinearDiscriminantAnalysis, QuadraticDiscriminantAnalysis\n",
    "from lightgbm import LGBMClassifier"
   ]
  },
  {
   "cell_type": "code",
   "execution_count": 6,
   "id": "0e7409a8",
   "metadata": {
    "execution": {
     "iopub.execute_input": "2024-11-22T21:14:34.606502Z",
     "iopub.status.busy": "2024-11-22T21:14:34.605935Z",
     "iopub.status.idle": "2024-11-22T21:14:35.358224Z",
     "shell.execute_reply": "2024-11-22T21:14:35.356597Z"
    },
    "papermill": {
     "duration": 0.758949,
     "end_time": "2024-11-22T21:14:35.360412",
     "exception": false,
     "start_time": "2024-11-22T21:14:34.601463",
     "status": "completed"
    },
    "tags": []
   },
   "outputs": [
    {
     "name": "stdout",
     "output_type": "stream",
     "text": [
      "LogisticRegression 96.02649006622516\n",
      "DecisionTreeClassifier 84.76821192052981\n",
      "RandomForestClassifier 94.70198675496688\n",
      "GradientBoostingClassifier 96.02649006622516\n",
      "AdaBoostClassifier 97.35099337748345\n",
      "SVC 85.43046357615894\n",
      "GaussianNB 96.68874172185431\n",
      "KNeighborsClassifier 79.47019867549669\n",
      "LinearDiscriminantAnalysis 95.36423841059603\n",
      "QuadraticDiscriminantAnalysis 95.36423841059603\n",
      "LGBMClassifier 94.70198675496688\n"
     ]
    }
   ],
   "source": [
    "model_list = [\n",
    "    LogisticRegression(),\n",
    "    DecisionTreeClassifier(ccp_alpha=0.001),\n",
    "    RandomForestClassifier(),\n",
    "    GradientBoostingClassifier(),\n",
    "    AdaBoostClassifier(),\n",
    "    SVC(),\n",
    "    GaussianNB(),\n",
    "    KNeighborsClassifier(),\n",
    "    LinearDiscriminantAnalysis(),\n",
    "    QuadraticDiscriminantAnalysis(),\n",
    "    LGBMClassifier(verbose=-1)\n",
    "]\n",
    "\n",
    "from sklearn.metrics import accuracy_score\n",
    "results={}\n",
    "for model in model_list:\n",
    "    model.fit(x_train, y_train)\n",
    "    \n",
    "    y_pred = model.predict(x_test)\n",
    "    \n",
    "    accuracy = accuracy_score(y_test, y_pred)\n",
    "\n",
    "    results[type(model).__name__] = accuracy\n",
    "\n",
    "for model_name, accuracy in results.items():\n",
    "    print(model_name , (accuracy*100))"
   ]
  },
  {
   "cell_type": "code",
   "execution_count": 7,
   "id": "22e054c9",
   "metadata": {
    "execution": {
     "iopub.execute_input": "2024-11-22T21:14:35.368629Z",
     "iopub.status.busy": "2024-11-22T21:14:35.367924Z",
     "iopub.status.idle": "2024-11-22T21:14:35.373867Z",
     "shell.execute_reply": "2024-11-22T21:14:35.372720Z"
    },
    "papermill": {
     "duration": 0.012139,
     "end_time": "2024-11-22T21:14:35.375687",
     "exception": false,
     "start_time": "2024-11-22T21:14:35.363548",
     "status": "completed"
    },
    "tags": []
   },
   "outputs": [
    {
     "name": "stdout",
     "output_type": "stream",
     "text": [
      "The classifier with the maximum accuracy is: AdaBoostClassifier with accuracy 0.9735099337748344\n"
     ]
    }
   ],
   "source": [
    "max_classifier = max(results, key=results.get)\n",
    "max_accuracy = results[max_classifier]\n",
    "\n",
    "print(\"The classifier with the maximum accuracy is:\", max_classifier ,\"with accuracy\" ,max_accuracy)"
   ]
  },
  {
   "cell_type": "code",
   "execution_count": 8,
   "id": "8799dd03",
   "metadata": {
    "execution": {
     "iopub.execute_input": "2024-11-22T21:14:35.383932Z",
     "iopub.status.busy": "2024-11-22T21:14:35.382952Z",
     "iopub.status.idle": "2024-11-22T21:14:35.833104Z",
     "shell.execute_reply": "2024-11-22T21:14:35.831996Z"
    },
    "papermill": {
     "duration": 0.456775,
     "end_time": "2024-11-22T21:14:35.835524",
     "exception": false,
     "start_time": "2024-11-22T21:14:35.378749",
     "status": "completed"
    },
    "tags": []
   },
   "outputs": [
    {
     "data": {
      "text/html": [
       "<style>#sk-container-id-1 {color: black;background-color: white;}#sk-container-id-1 pre{padding: 0;}#sk-container-id-1 div.sk-toggleable {background-color: white;}#sk-container-id-1 label.sk-toggleable__label {cursor: pointer;display: block;width: 100%;margin-bottom: 0;padding: 0.3em;box-sizing: border-box;text-align: center;}#sk-container-id-1 label.sk-toggleable__label-arrow:before {content: \"▸\";float: left;margin-right: 0.25em;color: #696969;}#sk-container-id-1 label.sk-toggleable__label-arrow:hover:before {color: black;}#sk-container-id-1 div.sk-estimator:hover label.sk-toggleable__label-arrow:before {color: black;}#sk-container-id-1 div.sk-toggleable__content {max-height: 0;max-width: 0;overflow: hidden;text-align: left;background-color: #f0f8ff;}#sk-container-id-1 div.sk-toggleable__content pre {margin: 0.2em;color: black;border-radius: 0.25em;background-color: #f0f8ff;}#sk-container-id-1 input.sk-toggleable__control:checked~div.sk-toggleable__content {max-height: 200px;max-width: 100%;overflow: auto;}#sk-container-id-1 input.sk-toggleable__control:checked~label.sk-toggleable__label-arrow:before {content: \"▾\";}#sk-container-id-1 div.sk-estimator input.sk-toggleable__control:checked~label.sk-toggleable__label {background-color: #d4ebff;}#sk-container-id-1 div.sk-label input.sk-toggleable__control:checked~label.sk-toggleable__label {background-color: #d4ebff;}#sk-container-id-1 input.sk-hidden--visually {border: 0;clip: rect(1px 1px 1px 1px);clip: rect(1px, 1px, 1px, 1px);height: 1px;margin: -1px;overflow: hidden;padding: 0;position: absolute;width: 1px;}#sk-container-id-1 div.sk-estimator {font-family: monospace;background-color: #f0f8ff;border: 1px dotted black;border-radius: 0.25em;box-sizing: border-box;margin-bottom: 0.5em;}#sk-container-id-1 div.sk-estimator:hover {background-color: #d4ebff;}#sk-container-id-1 div.sk-parallel-item::after {content: \"\";width: 100%;border-bottom: 1px solid gray;flex-grow: 1;}#sk-container-id-1 div.sk-label:hover label.sk-toggleable__label {background-color: #d4ebff;}#sk-container-id-1 div.sk-serial::before {content: \"\";position: absolute;border-left: 1px solid gray;box-sizing: border-box;top: 0;bottom: 0;left: 50%;z-index: 0;}#sk-container-id-1 div.sk-serial {display: flex;flex-direction: column;align-items: center;background-color: white;padding-right: 0.2em;padding-left: 0.2em;position: relative;}#sk-container-id-1 div.sk-item {position: relative;z-index: 1;}#sk-container-id-1 div.sk-parallel {display: flex;align-items: stretch;justify-content: center;background-color: white;position: relative;}#sk-container-id-1 div.sk-item::before, #sk-container-id-1 div.sk-parallel-item::before {content: \"\";position: absolute;border-left: 1px solid gray;box-sizing: border-box;top: 0;bottom: 0;left: 50%;z-index: -1;}#sk-container-id-1 div.sk-parallel-item {display: flex;flex-direction: column;z-index: 1;position: relative;background-color: white;}#sk-container-id-1 div.sk-parallel-item:first-child::after {align-self: flex-end;width: 50%;}#sk-container-id-1 div.sk-parallel-item:last-child::after {align-self: flex-start;width: 50%;}#sk-container-id-1 div.sk-parallel-item:only-child::after {width: 0;}#sk-container-id-1 div.sk-dashed-wrapped {border: 1px dashed gray;margin: 0 0.4em 0.5em 0.4em;box-sizing: border-box;padding-bottom: 0.4em;background-color: white;}#sk-container-id-1 div.sk-label label {font-family: monospace;font-weight: bold;display: inline-block;line-height: 1.2em;}#sk-container-id-1 div.sk-label-container {text-align: center;}#sk-container-id-1 div.sk-container {/* jupyter's `normalize.less` sets `[hidden] { display: none; }` but bootstrap.min.css set `[hidden] { display: none !important; }` so we also need the `!important` here to be able to override the default hidden behavior on the sphinx rendered scikit-learn.org. See: https://github.com/scikit-learn/scikit-learn/issues/21755 */display: inline-block !important;position: relative;}#sk-container-id-1 div.sk-text-repr-fallback {display: none;}</style><div id=\"sk-container-id-1\" class=\"sk-top-container\"><div class=\"sk-text-repr-fallback\"><pre>VotingClassifier(estimators=[(&#x27;logistic&#x27;, LogisticRegression()),\n",
       "                             (&#x27;decision_tree&#x27;,\n",
       "                              DecisionTreeClassifier(ccp_alpha=0.001)),\n",
       "                             (&#x27;random_forest&#x27;, RandomForestClassifier()),\n",
       "                             (&#x27;gradient_boosting&#x27;,\n",
       "                              GradientBoostingClassifier()),\n",
       "                             (&#x27;ada_boost&#x27;, AdaBoostClassifier()),\n",
       "                             (&#x27;svc&#x27;, SVC()), (&#x27;gaussian_nb&#x27;, GaussianNB()),\n",
       "                             (&#x27;k_neighbors&#x27;, KNeighborsClassifier()),\n",
       "                             (&#x27;lda&#x27;, LinearDiscriminantAnalysis()),\n",
       "                             (&#x27;qda&#x27;, QuadraticDiscriminantAnalysis()),\n",
       "                             (&#x27;lgbm&#x27;, LGBMClassifier(verbose=-1))])</pre><b>In a Jupyter environment, please rerun this cell to show the HTML representation or trust the notebook. <br />On GitHub, the HTML representation is unable to render, please try loading this page with nbviewer.org.</b></div><div class=\"sk-container\" hidden><div class=\"sk-item sk-dashed-wrapped\"><div class=\"sk-label-container\"><div class=\"sk-label sk-toggleable\"><input class=\"sk-toggleable__control sk-hidden--visually\" id=\"sk-estimator-id-1\" type=\"checkbox\" ><label for=\"sk-estimator-id-1\" class=\"sk-toggleable__label sk-toggleable__label-arrow\">VotingClassifier</label><div class=\"sk-toggleable__content\"><pre>VotingClassifier(estimators=[(&#x27;logistic&#x27;, LogisticRegression()),\n",
       "                             (&#x27;decision_tree&#x27;,\n",
       "                              DecisionTreeClassifier(ccp_alpha=0.001)),\n",
       "                             (&#x27;random_forest&#x27;, RandomForestClassifier()),\n",
       "                             (&#x27;gradient_boosting&#x27;,\n",
       "                              GradientBoostingClassifier()),\n",
       "                             (&#x27;ada_boost&#x27;, AdaBoostClassifier()),\n",
       "                             (&#x27;svc&#x27;, SVC()), (&#x27;gaussian_nb&#x27;, GaussianNB()),\n",
       "                             (&#x27;k_neighbors&#x27;, KNeighborsClassifier()),\n",
       "                             (&#x27;lda&#x27;, LinearDiscriminantAnalysis()),\n",
       "                             (&#x27;qda&#x27;, QuadraticDiscriminantAnalysis()),\n",
       "                             (&#x27;lgbm&#x27;, LGBMClassifier(verbose=-1))])</pre></div></div></div><div class=\"sk-parallel\"><div class=\"sk-parallel-item\"><div class=\"sk-item\"><div class=\"sk-label-container\"><div class=\"sk-label sk-toggleable\"><label>logistic</label></div></div><div class=\"sk-serial\"><div class=\"sk-item\"><div class=\"sk-estimator sk-toggleable\"><input class=\"sk-toggleable__control sk-hidden--visually\" id=\"sk-estimator-id-2\" type=\"checkbox\" ><label for=\"sk-estimator-id-2\" class=\"sk-toggleable__label sk-toggleable__label-arrow\">LogisticRegression</label><div class=\"sk-toggleable__content\"><pre>LogisticRegression()</pre></div></div></div></div></div></div><div class=\"sk-parallel-item\"><div class=\"sk-item\"><div class=\"sk-label-container\"><div class=\"sk-label sk-toggleable\"><label>decision_tree</label></div></div><div class=\"sk-serial\"><div class=\"sk-item\"><div class=\"sk-estimator sk-toggleable\"><input class=\"sk-toggleable__control sk-hidden--visually\" id=\"sk-estimator-id-3\" type=\"checkbox\" ><label for=\"sk-estimator-id-3\" class=\"sk-toggleable__label sk-toggleable__label-arrow\">DecisionTreeClassifier</label><div class=\"sk-toggleable__content\"><pre>DecisionTreeClassifier(ccp_alpha=0.001)</pre></div></div></div></div></div></div><div class=\"sk-parallel-item\"><div class=\"sk-item\"><div class=\"sk-label-container\"><div class=\"sk-label sk-toggleable\"><label>random_forest</label></div></div><div class=\"sk-serial\"><div class=\"sk-item\"><div class=\"sk-estimator sk-toggleable\"><input class=\"sk-toggleable__control sk-hidden--visually\" id=\"sk-estimator-id-4\" type=\"checkbox\" ><label for=\"sk-estimator-id-4\" class=\"sk-toggleable__label sk-toggleable__label-arrow\">RandomForestClassifier</label><div class=\"sk-toggleable__content\"><pre>RandomForestClassifier()</pre></div></div></div></div></div></div><div class=\"sk-parallel-item\"><div class=\"sk-item\"><div class=\"sk-label-container\"><div class=\"sk-label sk-toggleable\"><label>gradient_boosting</label></div></div><div class=\"sk-serial\"><div class=\"sk-item\"><div class=\"sk-estimator sk-toggleable\"><input class=\"sk-toggleable__control sk-hidden--visually\" id=\"sk-estimator-id-5\" type=\"checkbox\" ><label for=\"sk-estimator-id-5\" class=\"sk-toggleable__label sk-toggleable__label-arrow\">GradientBoostingClassifier</label><div class=\"sk-toggleable__content\"><pre>GradientBoostingClassifier()</pre></div></div></div></div></div></div><div class=\"sk-parallel-item\"><div class=\"sk-item\"><div class=\"sk-label-container\"><div class=\"sk-label sk-toggleable\"><label>ada_boost</label></div></div><div class=\"sk-serial\"><div class=\"sk-item\"><div class=\"sk-estimator sk-toggleable\"><input class=\"sk-toggleable__control sk-hidden--visually\" id=\"sk-estimator-id-6\" type=\"checkbox\" ><label for=\"sk-estimator-id-6\" class=\"sk-toggleable__label sk-toggleable__label-arrow\">AdaBoostClassifier</label><div class=\"sk-toggleable__content\"><pre>AdaBoostClassifier()</pre></div></div></div></div></div></div><div class=\"sk-parallel-item\"><div class=\"sk-item\"><div class=\"sk-label-container\"><div class=\"sk-label sk-toggleable\"><label>svc</label></div></div><div class=\"sk-serial\"><div class=\"sk-item\"><div class=\"sk-estimator sk-toggleable\"><input class=\"sk-toggleable__control sk-hidden--visually\" id=\"sk-estimator-id-7\" type=\"checkbox\" ><label for=\"sk-estimator-id-7\" class=\"sk-toggleable__label sk-toggleable__label-arrow\">SVC</label><div class=\"sk-toggleable__content\"><pre>SVC()</pre></div></div></div></div></div></div><div class=\"sk-parallel-item\"><div class=\"sk-item\"><div class=\"sk-label-container\"><div class=\"sk-label sk-toggleable\"><label>gaussian_nb</label></div></div><div class=\"sk-serial\"><div class=\"sk-item\"><div class=\"sk-estimator sk-toggleable\"><input class=\"sk-toggleable__control sk-hidden--visually\" id=\"sk-estimator-id-8\" type=\"checkbox\" ><label for=\"sk-estimator-id-8\" class=\"sk-toggleable__label sk-toggleable__label-arrow\">GaussianNB</label><div class=\"sk-toggleable__content\"><pre>GaussianNB()</pre></div></div></div></div></div></div><div class=\"sk-parallel-item\"><div class=\"sk-item\"><div class=\"sk-label-container\"><div class=\"sk-label sk-toggleable\"><label>k_neighbors</label></div></div><div class=\"sk-serial\"><div class=\"sk-item\"><div class=\"sk-estimator sk-toggleable\"><input class=\"sk-toggleable__control sk-hidden--visually\" id=\"sk-estimator-id-9\" type=\"checkbox\" ><label for=\"sk-estimator-id-9\" class=\"sk-toggleable__label sk-toggleable__label-arrow\">KNeighborsClassifier</label><div class=\"sk-toggleable__content\"><pre>KNeighborsClassifier()</pre></div></div></div></div></div></div><div class=\"sk-parallel-item\"><div class=\"sk-item\"><div class=\"sk-label-container\"><div class=\"sk-label sk-toggleable\"><label>lda</label></div></div><div class=\"sk-serial\"><div class=\"sk-item\"><div class=\"sk-estimator sk-toggleable\"><input class=\"sk-toggleable__control sk-hidden--visually\" id=\"sk-estimator-id-10\" type=\"checkbox\" ><label for=\"sk-estimator-id-10\" class=\"sk-toggleable__label sk-toggleable__label-arrow\">LinearDiscriminantAnalysis</label><div class=\"sk-toggleable__content\"><pre>LinearDiscriminantAnalysis()</pre></div></div></div></div></div></div><div class=\"sk-parallel-item\"><div class=\"sk-item\"><div class=\"sk-label-container\"><div class=\"sk-label sk-toggleable\"><label>qda</label></div></div><div class=\"sk-serial\"><div class=\"sk-item\"><div class=\"sk-estimator sk-toggleable\"><input class=\"sk-toggleable__control sk-hidden--visually\" id=\"sk-estimator-id-11\" type=\"checkbox\" ><label for=\"sk-estimator-id-11\" class=\"sk-toggleable__label sk-toggleable__label-arrow\">QuadraticDiscriminantAnalysis</label><div class=\"sk-toggleable__content\"><pre>QuadraticDiscriminantAnalysis()</pre></div></div></div></div></div></div><div class=\"sk-parallel-item\"><div class=\"sk-item\"><div class=\"sk-label-container\"><div class=\"sk-label sk-toggleable\"><label>lgbm</label></div></div><div class=\"sk-serial\"><div class=\"sk-item\"><div class=\"sk-estimator sk-toggleable\"><input class=\"sk-toggleable__control sk-hidden--visually\" id=\"sk-estimator-id-12\" type=\"checkbox\" ><label for=\"sk-estimator-id-12\" class=\"sk-toggleable__label sk-toggleable__label-arrow\">LGBMClassifier</label><div class=\"sk-toggleable__content\"><pre>LGBMClassifier(verbose=-1)</pre></div></div></div></div></div></div></div></div></div></div>"
      ],
      "text/plain": [
       "VotingClassifier(estimators=[('logistic', LogisticRegression()),\n",
       "                             ('decision_tree',\n",
       "                              DecisionTreeClassifier(ccp_alpha=0.001)),\n",
       "                             ('random_forest', RandomForestClassifier()),\n",
       "                             ('gradient_boosting',\n",
       "                              GradientBoostingClassifier()),\n",
       "                             ('ada_boost', AdaBoostClassifier()),\n",
       "                             ('svc', SVC()), ('gaussian_nb', GaussianNB()),\n",
       "                             ('k_neighbors', KNeighborsClassifier()),\n",
       "                             ('lda', LinearDiscriminantAnalysis()),\n",
       "                             ('qda', QuadraticDiscriminantAnalysis()),\n",
       "                             ('lgbm', LGBMClassifier(verbose=-1))])"
      ]
     },
     "execution_count": 8,
     "metadata": {},
     "output_type": "execute_result"
    }
   ],
   "source": [
    "model=VotingClassifier(estimators=[\n",
    "   (\"logistic\", LogisticRegression()),\n",
    "    (\"decision_tree\", DecisionTreeClassifier(ccp_alpha=0.001)),\n",
    "    (\"random_forest\", RandomForestClassifier()),\n",
    "    (\"gradient_boosting\", GradientBoostingClassifier()),\n",
    "    (\"ada_boost\", AdaBoostClassifier()),\n",
    "    (\"svc\", SVC()),\n",
    "    (\"gaussian_nb\", GaussianNB()),\n",
    "    (\"k_neighbors\", KNeighborsClassifier()),\n",
    "    (\"lda\", LinearDiscriminantAnalysis()),\n",
    "    (\"qda\", QuadraticDiscriminantAnalysis()),\n",
    "    (\"lgbm\", LGBMClassifier(verbose=-1))\n",
    "])\n",
    "model.fit(x_train,y_train)"
   ]
  },
  {
   "cell_type": "code",
   "execution_count": 9,
   "id": "45efd3df",
   "metadata": {
    "execution": {
     "iopub.execute_input": "2024-11-22T21:14:35.844968Z",
     "iopub.status.busy": "2024-11-22T21:14:35.844545Z",
     "iopub.status.idle": "2024-11-22T21:14:35.900884Z",
     "shell.execute_reply": "2024-11-22T21:14:35.899737Z"
    },
    "papermill": {
     "duration": 0.063906,
     "end_time": "2024-11-22T21:14:35.903477",
     "exception": false,
     "start_time": "2024-11-22T21:14:35.839571",
     "status": "completed"
    },
    "tags": []
   },
   "outputs": [
    {
     "data": {
      "text/plain": [
       "0.9668874172185431"
      ]
     },
     "execution_count": 9,
     "metadata": {},
     "output_type": "execute_result"
    }
   ],
   "source": [
    "y_pred = model.predict(x_test)\n",
    "    \n",
    "accuracy = accuracy_score(y_test, y_pred)\n",
    "accuracy"
   ]
  },
  {
   "cell_type": "code",
   "execution_count": null,
   "id": "80e97435",
   "metadata": {
    "execution": {
     "iopub.execute_input": "2024-11-22T21:13:24.860863Z",
     "iopub.status.busy": "2024-11-22T21:13:24.860352Z",
     "iopub.status.idle": "2024-11-22T21:13:24.893119Z",
     "shell.execute_reply": "2024-11-22T21:13:24.891377Z",
     "shell.execute_reply.started": "2024-11-22T21:13:24.860819Z"
    },
    "papermill": {
     "duration": 0.003605,
     "end_time": "2024-11-22T21:14:35.911004",
     "exception": false,
     "start_time": "2024-11-22T21:14:35.907399",
     "status": "completed"
    },
    "tags": []
   },
   "outputs": [],
   "source": []
  }
 ],
 "metadata": {
  "kaggle": {
   "accelerator": "none",
   "dataSources": [
    {
     "datasetId": 6125325,
     "sourceId": 9958913,
     "sourceType": "datasetVersion"
    }
   ],
   "dockerImageVersionId": 30786,
   "isGpuEnabled": false,
   "isInternetEnabled": true,
   "language": "python",
   "sourceType": "notebook"
  },
  "kernelspec": {
   "display_name": "Python 3",
   "language": "python",
   "name": "python3"
  },
  "language_info": {
   "codemirror_mode": {
    "name": "ipython",
    "version": 3
   },
   "file_extension": ".py",
   "mimetype": "text/x-python",
   "name": "python",
   "nbconvert_exporter": "python",
   "pygments_lexer": "ipython3",
   "version": "3.10.14"
  },
  "papermill": {
   "default_parameters": {},
   "duration": 9.044131,
   "end_time": "2024-11-22T21:14:36.736588",
   "environment_variables": {},
   "exception": null,
   "input_path": "__notebook__.ipynb",
   "output_path": "__notebook__.ipynb",
   "parameters": {},
   "start_time": "2024-11-22T21:14:27.692457",
   "version": "2.6.0"
  }
 },
 "nbformat": 4,
 "nbformat_minor": 5
}
